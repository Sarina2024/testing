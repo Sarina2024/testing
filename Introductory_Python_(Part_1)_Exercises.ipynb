{
  "nbformat": 4,
  "nbformat_minor": 0,
  "metadata": {
    "colab": {
      "provenance": [],
      "include_colab_link": true
    },
    "kernelspec": {
      "name": "python3",
      "display_name": "Python 3"
    },
    "language_info": {
      "name": "python"
    }
  },
  "cells": [
    {
      "cell_type": "markdown",
      "metadata": {
        "id": "view-in-github",
        "colab_type": "text"
      },
      "source": [
        "<a href=\"https://colab.research.google.com/github/Sarina2024/testing/blob/main/Introductory_Python_(Part_1)_Exercises.ipynb\" target=\"_parent\"><img src=\"https://colab.research.google.com/assets/colab-badge.svg\" alt=\"Open In Colab\"/></a>"
      ]
    },
    {
      "cell_type": "markdown",
      "source": [
        "# **Introductory Python (Part 1) - Exercises**"
      ],
      "metadata": {
        "id": "JgUINvs8jOL2"
      }
    },
    {
      "cell_type": "markdown",
      "source": [
        "### 1. Python Basics"
      ],
      "metadata": {
        "id": "QKjpUFfZJ_aw"
      }
    },
    {
      "cell_type": "markdown",
      "source": [
        "Variables hold a piece of information that can change over time."
      ],
      "metadata": {
        "id": "wwf6vPLWNS5i"
      }
    },
    {
      "cell_type": "code",
      "source": [
        "wallet = 41\n",
        "print(wallet)"
      ],
      "metadata": {
        "id": "nuCJpU6XJhcO"
      },
      "execution_count": null,
      "outputs": []
    },
    {
      "cell_type": "markdown",
      "source": [
        "Numbers: Arithmetic Operations"
      ],
      "metadata": {
        "id": "Hg4QRPyrJnu1"
      }
    },
    {
      "cell_type": "code",
      "source": [
        "day = 21\n",
        "temp = -15\n",
        "weight = 65.5\n",
        "\n",
        "print(3 + 6)\n",
        "print(day + 3)\n",
        "print(weight * 2)\n",
        "print(temp - 5)\n",
        "print(weight / 2)"
      ],
      "metadata": {
        "id": "sKBrZ0fDJrRV"
      },
      "execution_count": null,
      "outputs": []
    },
    {
      "cell_type": "markdown",
      "source": [
        "Various Arithmetic Operators"
      ],
      "metadata": {
        "id": "nJhBC0wKJ7ca"
      }
    },
    {
      "cell_type": "code",
      "source": [
        "print(\"5 + 2 =\", 5+2)\n",
        "print(\"5 - 2 =\", 5-2)\n",
        "print(\"5 * 2 =\", 5*2)\n",
        "print(\"5 / 2 =\", 5/2)\n",
        "print(\"5 % 2 =\", 5%2)\n",
        "print(\"5 ** 2 =\", 5**2)\n",
        "print(\"5 // 2 =\", 5//2)"
      ],
      "metadata": {
        "id": "lU1U2vfHJ9Xg"
      },
      "execution_count": null,
      "outputs": []
    },
    {
      "cell_type": "markdown",
      "source": [
        "Strings - a way to represent text inside a Python\n",
        "\n",
        "Can use a single quote (' ') or a double quote (\" \") to represent a string"
      ],
      "metadata": {
        "id": "8rlKt46SKWIM"
      }
    },
    {
      "cell_type": "code",
      "source": [
        "plant = 'mango'\n",
        "print(plant)"
      ],
      "metadata": {
        "id": "hpS8wVpCKXfP"
      },
      "execution_count": null,
      "outputs": []
    },
    {
      "cell_type": "code",
      "source": [
        "# try type fruit = \"durian\" and print the content\n"
      ],
      "metadata": {
        "id": "yxTHc5iLKc2C"
      },
      "execution_count": null,
      "outputs": []
    },
    {
      "cell_type": "markdown",
      "source": [
        "Using variables in strings"
      ],
      "metadata": {
        "id": "gyTAF0vnZ8hp"
      }
    },
    {
      "cell_type": "code",
      "source": [
        "day = 31\n",
        "month = \"March\"\n",
        "temp = 33\n",
        "print(f\"Today is {month} {day} and it’s {temp} degrees outside\")"
      ],
      "metadata": {
        "id": "6QfgF6VzZ9F3"
      },
      "execution_count": null,
      "outputs": []
    },
    {
      "cell_type": "code",
      "source": [
        "print(\"Today is {} {} and it’s {} degrees outside\".format(month, day, temp))"
      ],
      "metadata": {
        "id": "mGWbiQyQaFQs"
      },
      "execution_count": null,
      "outputs": []
    },
    {
      "cell_type": "markdown",
      "source": [
        "Input() and print()"
      ],
      "metadata": {
        "id": "xfyTrcncRQZW"
      }
    },
    {
      "cell_type": "code",
      "source": [
        "name = input(\"What is your name? \")\n",
        "print(f\"Welcome to MMU, {name}!\")"
      ],
      "metadata": {
        "id": "4tDq9Ye7Rat8"
      },
      "execution_count": null,
      "outputs": []
    },
    {
      "cell_type": "code",
      "source": [
        "#challege: ask user to enter his/her age, and then display it.\n",
        "age = input(\"Enter your age: \")\n",
        "print(f\"Great! You are {age} years old\")"
      ],
      "metadata": {
        "id": "rITyTimM5Bjs"
      },
      "execution_count": null,
      "outputs": []
    },
    {
      "cell_type": "markdown",
      "source": [
        "### 2. If-else"
      ],
      "metadata": {
        "id": "AnX_-dFMbo3H"
      }
    },
    {
      "cell_type": "markdown",
      "source": [
        "if and else is a control structure to simulate cause and effect."
      ],
      "metadata": {
        "id": "n0EfE3e1brZ6"
      }
    },
    {
      "cell_type": "code",
      "source": [
        "num = int(input(\"Please enter a number: \"))\n",
        "if num>0:\n",
        "  print(\"Positive number\")\n",
        "else:\n",
        "  print(\"Negative number\")"
      ],
      "metadata": {
        "id": "zHDyHXFMcXKK"
      },
      "execution_count": null,
      "outputs": []
    },
    {
      "cell_type": "markdown",
      "source": [
        "if elif and else\n",
        "\n",
        "If there are more than two conditions, use elif in addition to if and else"
      ],
      "metadata": {
        "id": "SyPsk2UZHUij"
      }
    },
    {
      "cell_type": "code",
      "source": [
        "num = int(input(\"Please enter a number: \"))\n",
        "if num  >0:\n",
        "  print(\"Positive number\")\n",
        "elif num == 0:\n",
        "  print(\"Zero\")\n",
        "else:\n",
        "  print(\"Negative number\")"
      ],
      "metadata": {
        "id": "pijQLdPSH03I"
      },
      "execution_count": null,
      "outputs": []
    },
    {
      "cell_type": "markdown",
      "source": [
        "### Project: Magic 8 ball"
      ],
      "metadata": {
        "id": "VG6y06vldnt4"
      }
    },
    {
      "cell_type": "markdown",
      "source": [
        "Project 1: Picking a random number  \n",
        "First, import the _random_ package"
      ],
      "metadata": {
        "id": "YF0wfourhrh-"
      }
    },
    {
      "cell_type": "code",
      "source": [
        "import random"
      ],
      "metadata": {
        "id": "1f4l11FzhxXv"
      },
      "execution_count": 4,
      "outputs": []
    },
    {
      "cell_type": "code",
      "source": [
        "r = random.randint(1, 10)\n",
        "print(r)"
      ],
      "metadata": {
        "id": "LU2uvPG_hEoR"
      },
      "execution_count": null,
      "outputs": []
    },
    {
      "cell_type": "markdown",
      "source": [
        "Challenge: Create a Magic 8 ball"
      ],
      "metadata": {
        "id": "cestp3jUhace"
      }
    },
    {
      "cell_type": "code",
      "source": [
        "answer = random.randint(1,3)\n",
        "#complete your code here\n",
        "if answer == 1:\n",
        "  print(\"Yes\")\n",
        "elif answer == 2:\n",
        "  print('No')\n",
        "else:\n",
        "  print('Maybe')"
      ],
      "metadata": {
        "id": "hmjBD_y3hbFQ"
      },
      "execution_count": null,
      "outputs": []
    },
    {
      "cell_type": "markdown",
      "source": [
        "Generate a Lucky Number"
      ],
      "metadata": {
        "id": "W0L41IErvXaw"
      }
    },
    {
      "cell_type": "code",
      "source": [
        "import random\n",
        "lucky_number = random.randint(1,100)"
      ],
      "metadata": {
        "id": "l754J7ftvu0W"
      },
      "execution_count": null,
      "outputs": []
    },
    {
      "cell_type": "markdown",
      "source": [
        "Challenge: Try to print out the lucky number in a string\n",
        "\n",
        "You will have a great day! Your lucky number is ....."
      ],
      "metadata": {
        "id": "Z6MTw9wYwLW4"
      }
    },
    {
      "cell_type": "code",
      "source": [
        "#print out the lucky number here\n"
      ],
      "metadata": {
        "id": "ijYq0WgBwc4P"
      },
      "execution_count": null,
      "outputs": []
    },
    {
      "cell_type": "markdown",
      "source": [
        "Choosing what fortune to show"
      ],
      "metadata": {
        "id": "yl1uSkBSwe5W"
      }
    },
    {
      "cell_type": "code",
      "source": [
        "fortune_number = random.randint(1, 3)\n",
        "\n",
        "if fortune_number == 1:\n",
        "  fortune_text = 'You will have a great day!'\n",
        "elif fortune_number == 2:\n",
        "  fortune_text = 'Today will be tough...but worth it'\n",
        "elif fortune_number == 3:\n",
        "  fortune_text = 'Believe in yourself...for others already do'\n",
        "\n",
        "#write the code to print the fortune_text and fortune_number here\n"
      ],
      "metadata": {
        "collapsed": true,
        "id": "NbpHKZcswmvK"
      },
      "execution_count": null,
      "outputs": []
    },
    {
      "cell_type": "markdown",
      "source": [
        "### 3. For Loop"
      ],
      "metadata": {
        "id": "NmBQbD7zjlcA"
      }
    },
    {
      "cell_type": "markdown",
      "source": [
        "A FOR loop is used to repeat the same code several times"
      ],
      "metadata": {
        "id": "NAZerUsPlnLM"
      }
    },
    {
      "cell_type": "code",
      "source": [
        "for number in range (5):\n",
        "  print(\"Hello\")"
      ],
      "metadata": {
        "id": "INjJQP2Mlo0_"
      },
      "execution_count": null,
      "outputs": []
    },
    {
      "cell_type": "code",
      "source": [
        "for num in range (10):\n",
        "  print(num)"
      ],
      "metadata": {
        "id": "pky88Rrol1Pf"
      },
      "execution_count": null,
      "outputs": []
    },
    {
      "cell_type": "markdown",
      "source": [
        "FOR loop: Challenge"
      ],
      "metadata": {
        "id": "sbX9RuFQmLSd"
      }
    },
    {
      "cell_type": "code",
      "source": [
        "for number in range(20):\n",
        "  # complete your code here\n"
      ],
      "metadata": {
        "id": "OdSaL3xgmNcy"
      },
      "execution_count": null,
      "outputs": []
    },
    {
      "cell_type": "markdown",
      "source": [
        "### 4. While Loop"
      ],
      "metadata": {
        "id": "BDsgk__kxiof"
      }
    },
    {
      "cell_type": "markdown",
      "source": [
        "A WHILE loop repeats as long as the conditional expression is TRUE."
      ],
      "metadata": {
        "id": "LbZEj0X1c2Bo"
      }
    },
    {
      "cell_type": "code",
      "source": [
        "guess = int(input(\"What is your guess? \"))\n",
        "correct_number = 5\n",
        "\n",
        "while guess != correct_number:\n",
        "  guess = int(input(\"What is your guess? \"))\n",
        "\n",
        "print(\"You've made the right guess!\")"
      ],
      "metadata": {
        "id": "UeD-qtojxl8b"
      },
      "execution_count": null,
      "outputs": []
    },
    {
      "cell_type": "markdown",
      "source": [
        "Count the number of guesses"
      ],
      "metadata": {
        "id": "V2fcxLIKx2M1"
      }
    },
    {
      "cell_type": "code",
      "source": [
        "guess = int(input(\"What is your guess? \"))\n",
        "correct_number = 5\n",
        "count = 1\n",
        "\n",
        "while guess != correct_number:\n",
        "  count += 1\n",
        "  guess = int(input(\"What is your guess? \"))\n",
        "\n",
        "print(f\"You've made the right guess! The right answer is {correct_number}. It took you {count} guesses.\")"
      ],
      "metadata": {
        "id": "u9HHWI4Kx6TO"
      },
      "execution_count": null,
      "outputs": []
    },
    {
      "cell_type": "markdown",
      "source": [
        "What if the correct number is randomly selected?"
      ],
      "metadata": {
        "id": "qkYaGGLjyd3V"
      }
    },
    {
      "cell_type": "code",
      "source": [
        "import random\n",
        "correct_number = random.randint(1, 100)\n",
        "print(\"Guess between 1 and 100\")\n",
        "guess = int(input(\"What is your guess? \"))\n",
        "count = 1\n",
        "\n",
        "while guess != correct_number:\n",
        "  count += 1\n",
        "  if guess < correct_number:\n",
        "    guess = int(input(\"Nope. Guess higher, please > \"))\n",
        "  elif guess > correct_number:\n",
        "    guess = int(input(\"Nope. Guess lower, please > \"))\n",
        "\n",
        "print(f\"You've made the right guess! The right answer is {correct_number}. It took you {count} guesses.\")"
      ],
      "metadata": {
        "id": "IM_u_fGXx4CE"
      },
      "execution_count": null,
      "outputs": []
    },
    {
      "cell_type": "markdown",
      "source": [
        "The end. Congratulations! You've completed the first part of course."
      ],
      "metadata": {
        "id": "-S4J4FNuzA7X"
      }
    }
  ]
}