{
  "nbformat": 4,
  "nbformat_minor": 0,
  "metadata": {
    "colab": {
      "provenance": [],
      "include_colab_link": true
    },
    "kernelspec": {
      "name": "python3",
      "display_name": "Python 3"
    },
    "language_info": {
      "name": "python"
    }
  },
  "cells": [
    {
      "cell_type": "markdown",
      "metadata": {
        "id": "view-in-github",
        "colab_type": "text"
      },
      "source": [
        "<a href=\"https://colab.research.google.com/github/Sarina2024/testing/blob/main/Worksheet_Intro_Python_4_Farming.ipynb\" target=\"_parent\"><img src=\"https://colab.research.google.com/assets/colab-badge.svg\" alt=\"Open In Colab\"/></a>"
      ]
    },
    {
      "cell_type": "markdown",
      "source": [
        "### Introductory Python for Smart Farming"
      ],
      "metadata": {
        "id": "JgUINvs8jOL2"
      }
    },
    {
      "cell_type": "markdown",
      "source": [
        "#### 5. Functions, and more"
      ],
      "metadata": {
        "id": "nyVhb7_Gsi2c"
      }
    },
    {
      "cell_type": "code",
      "source": [
        "def hello():\n",
        "  print(\"Hello World!\")"
      ],
      "metadata": {
        "id": "5lFhgB7Qpi0X"
      },
      "execution_count": null,
      "outputs": []
    },
    {
      "cell_type": "code",
      "source": [
        "hello()"
      ],
      "metadata": {
        "id": "v01ZbC6ysuIV"
      },
      "execution_count": null,
      "outputs": []
    },
    {
      "cell_type": "markdown",
      "source": [
        "Pass Parameters to a Function"
      ],
      "metadata": {
        "id": "1vclnvcWs1u_"
      }
    },
    {
      "cell_type": "code",
      "source": [
        "def hello(name):\n",
        "  print(f\"Hello {name}!\")"
      ],
      "metadata": {
        "id": "hJmNgnVOtnCo"
      },
      "execution_count": null,
      "outputs": []
    },
    {
      "cell_type": "code",
      "source": [
        "# Task: Print a line that says \"Hello John!\"\n",
        "hello(John)"
      ],
      "metadata": {
        "id": "8DHvmlEot-Id"
      },
      "execution_count": null,
      "outputs": []
    },
    {
      "cell_type": "code",
      "source": [
        "# Task: Print a line that says \"Hello John!\"\n",
        "hello(\"John\")"
      ],
      "metadata": {
        "id": "F9Grw13Qs2bW"
      },
      "execution_count": null,
      "outputs": []
    },
    {
      "cell_type": "markdown",
      "source": [
        "As many parameters as you want"
      ],
      "metadata": {
        "id": "nBliJFSOuKI9"
      }
    },
    {
      "cell_type": "code",
      "source": [
        "def add_numbers(num1, num2):\n",
        "  print(num1 + num2)"
      ],
      "metadata": {
        "id": "7VUt4X3wuMQT"
      },
      "execution_count": null,
      "outputs": []
    },
    {
      "cell_type": "code",
      "source": [
        "# What's the result of adding 5 and 4?\n"
      ],
      "metadata": {
        "id": "2t9V_W7LuS8e"
      },
      "execution_count": null,
      "outputs": []
    },
    {
      "cell_type": "markdown",
      "source": [
        "Create a function that prints out a cat’s name & age"
      ],
      "metadata": {
        "id": "dLAYjR21uc9J"
      }
    },
    {
      "cell_type": "code",
      "source": [
        "def cat(name, age):\n",
        "  print(f\"I'm a cat. My name is {name} and I'm {age} years old.\")"
      ],
      "metadata": {
        "id": "6tmNAt-aue9l"
      },
      "execution_count": null,
      "outputs": []
    },
    {
      "cell_type": "code",
      "source": [
        "# There's a cat named as Kitty and she's 9 years old. How to print out the result?\n",
        "cat(Kitty, 9)"
      ],
      "metadata": {
        "id": "ZuGv4MfSukxw"
      },
      "execution_count": null,
      "outputs": []
    },
    {
      "cell_type": "code",
      "source": [
        "# There's a cat named as Kitty and she's 9 years old. How to print out the result?\n"
      ],
      "metadata": {
        "id": "bYTLXmZ-upbr"
      },
      "execution_count": null,
      "outputs": []
    },
    {
      "cell_type": "markdown",
      "source": [
        "Output of a function"
      ],
      "metadata": {
        "id": "4noYTqFZu10M"
      }
    },
    {
      "cell_type": "code",
      "source": [
        "def double(number):\n",
        "  return number * 2"
      ],
      "metadata": {
        "id": "ItVNOvBcu3p_"
      },
      "execution_count": null,
      "outputs": []
    },
    {
      "cell_type": "code",
      "source": [
        "# If we double the value of 5, what do we get?\n"
      ],
      "metadata": {
        "id": "PQb5gb2yu8pc"
      },
      "execution_count": null,
      "outputs": []
    },
    {
      "cell_type": "markdown",
      "source": [
        "#### Classes\n",
        "The best way to understand the concept of Classes is through an example. First, can you google for the meaning of apple and write it down here?"
      ],
      "metadata": {
        "id": "xf9B5rxNyczN"
      }
    },
    {
      "cell_type": "code",
      "execution_count": null,
      "metadata": {
        "id": "0JO7M5kbyakl"
      },
      "outputs": [],
      "source": [
        "class Apple:\n",
        "    info = \"Write the meaning of apple that you found here.\"\n"
      ]
    },
    {
      "cell_type": "markdown",
      "source": [
        "This is what I found."
      ],
      "metadata": {
        "id": "YOdcWXvre-yn"
      }
    },
    {
      "cell_type": "code",
      "source": [
        "class Apple:\n",
        "    info = \"An apple is the round fruit of a tree of the rose family, which typically has thin red or green skin and crisp flesh.\"\n"
      ],
      "metadata": {
        "id": "uQUCS84ifAuO"
      },
      "execution_count": null,
      "outputs": []
    },
    {
      "cell_type": "markdown",
      "source": [
        "Now let's print out its info."
      ],
      "metadata": {
        "id": "-uav-nrkfPyc"
      }
    },
    {
      "cell_type": "code",
      "source": [
        "print(Apple.info)"
      ],
      "metadata": {
        "id": "qrDwQI1nysxy"
      },
      "execution_count": null,
      "outputs": []
    },
    {
      "cell_type": "markdown",
      "source": [
        "***info*** is an **Attribute** of the class Apple.  \n",
        "*Challenge: Can you create a class for Orange?*"
      ],
      "metadata": {
        "id": "Hfm9Lc0EzAKm"
      }
    },
    {
      "cell_type": "markdown",
      "source": [
        "For example, this is what I've created."
      ],
      "metadata": {
        "id": "AyQljfaifrH9"
      }
    },
    {
      "cell_type": "code",
      "source": [
        "class Orange:\n",
        "    info ="
      ],
      "metadata": {
        "id": "_y8FlUtAfucJ"
      },
      "execution_count": null,
      "outputs": []
    },
    {
      "cell_type": "code",
      "source": [
        "# Print the info of the Orange\n",
        "print(Orange.info)"
      ],
      "metadata": {
        "id": "RzSIbfusfz7T"
      },
      "execution_count": null,
      "outputs": []
    },
    {
      "cell_type": "markdown",
      "source": [
        "#### Instances\n",
        "Now let's check out another concept called *Instances*."
      ],
      "metadata": {
        "id": "xxUCyoIbznha"
      }
    },
    {
      "cell_type": "markdown",
      "source": [
        "Let's first add something to the Apple class."
      ],
      "metadata": {
        "id": "Szb7qA1dzuvM"
      }
    },
    {
      "cell_type": "code",
      "source": [
        "class Apple:\n",
        "    info = \"An apple is the round fruit of a tree of the rose family, which typically has thin red or green skin and crisp flesh.\"\n",
        "\n",
        "    def __init__(self, color, flavor):\n",
        "        self.color = color\n",
        "        self.flavor = flavor\n"
      ],
      "metadata": {
        "id": "OkOamDoazoen"
      },
      "execution_count": null,
      "outputs": []
    },
    {
      "cell_type": "markdown",
      "source": [
        "What we've just added, is officially called the **Constructor** of the class.  \n",
        "An **Constructor** basically creates and initializes an object instance of a class."
      ],
      "metadata": {
        "id": "SElNAFuii5PV"
      }
    },
    {
      "cell_type": "markdown",
      "source": [
        "As the **Constructor** of the *Apple* class becomes available, we can now do the following.  \n",
        "For example, *Jonagold* is the name given to a type of apple. It's red in color and sweet in taste.  \n",
        "We can say,"
      ],
      "metadata": {
        "id": "fxPls4gvkytF"
      }
    },
    {
      "cell_type": "code",
      "source": [
        "Jonagold = Apple(\"red\", \"sweet\")"
      ],
      "metadata": {
        "id": "NKV6Cx49kYpt"
      },
      "execution_count": null,
      "outputs": []
    },
    {
      "cell_type": "markdown",
      "source": [
        "Guess what will happen if we do the followings:"
      ],
      "metadata": {
        "id": "e7ORVGLtpCYg"
      }
    },
    {
      "cell_type": "code",
      "source": [
        "print(Jonagold.color)"
      ],
      "metadata": {
        "id": "pPKWsSIOpK4l"
      },
      "execution_count": null,
      "outputs": []
    },
    {
      "cell_type": "code",
      "source": [
        "print(Jonagold.flavor)"
      ],
      "metadata": {
        "id": "OZ9hyvIopYJQ"
      },
      "execution_count": null,
      "outputs": []
    },
    {
      "cell_type": "markdown",
      "source": [
        "Yummy, *Jonagold* is red and sweet!  \n",
        "This is a major step as we've just created an **Instance** (*Jonagold*) of a **Class** (*Apple*).  \n",
        "***color*** and ***flavor*** are the **Attributes** of the object instance *Jonagold*."
      ],
      "metadata": {
        "id": "HYxQAalSpczo"
      }
    },
    {
      "cell_type": "markdown",
      "source": [
        "*Challenge!*  \n",
        "**Fuji** apple is **striped with yellow and pinkish-red**, and it's **sweet, crispy, and juicy**.  \n",
        " How do we code it?"
      ],
      "metadata": {
        "id": "LzJM4pbIf6cA"
      }
    },
    {
      "cell_type": "code",
      "source": [
        "# Code the Fuji apple here\n"
      ],
      "metadata": {
        "id": "rPQcJnwHhDPx"
      },
      "execution_count": null,
      "outputs": []
    },
    {
      "cell_type": "markdown",
      "source": [
        "Now we can add something to make the Apple class even more comprehensive."
      ],
      "metadata": {
        "id": "9KzedPA2qI9m"
      }
    },
    {
      "cell_type": "code",
      "source": [
        "class Apple:\n",
        "    info = \"An apple is the round fruit of a tree of the rose family, which typically has thin red or green skin and crisp flesh.\"\n",
        "\n",
        "    def __init__(self, color, flavor):\n",
        "        self.color = color\n",
        "        self.flavor = flavor\n",
        "\n",
        "    def __str__(self):\n",
        "        return f\"This apple is {self.color} and its flavor is {self.flavor}.\"\n"
      ],
      "metadata": {
        "id": "E0gz3JmaqU7x"
      },
      "execution_count": null,
      "outputs": []
    },
    {
      "cell_type": "markdown",
      "source": [
        "What we've just added is a ***special method*** that converts things to a **string** of characters.  \n",
        "Now try this. First, we still do the same stuff of coming up with the Jonagold instance."
      ],
      "metadata": {
        "id": "Xr5S7vRNrPlv"
      }
    },
    {
      "cell_type": "code",
      "source": [
        "Jonagold = Apple(\"red\", \"sweet\")"
      ],
      "metadata": {
        "id": "10UY0mbmsedb"
      },
      "execution_count": null,
      "outputs": []
    },
    {
      "cell_type": "markdown",
      "source": [
        "Here comes the interesting part,"
      ],
      "metadata": {
        "id": "u4iVZSJahXfk"
      }
    },
    {
      "cell_type": "code",
      "source": [
        "print(Jonagold)"
      ],
      "metadata": {
        "id": "tDMePJFqr0rY"
      },
      "execution_count": null,
      "outputs": []
    },
    {
      "cell_type": "markdown",
      "source": [
        "*Wow, the printed information gets even better!*"
      ],
      "metadata": {
        "id": "dJtozZD-s39r"
      }
    },
    {
      "cell_type": "markdown",
      "source": [
        "#### Methods\n",
        "Now we're going to teach a concept called **Methods**.  \n",
        "Actually you've just used two special methods, i.e **\\_\\_init\\_\\_** and **\\_\\_str\\_\\_**.  \n",
        "They're special in the sense that you don't call them *explicitly*. They just work in the background and are called automatically when needed by the program.  \n",
        "Now we teach you how to create **Methods** of your own (that you can call them *explicitly*)."
      ],
      "metadata": {
        "id": "WQ7JnuUO0TTy"
      }
    },
    {
      "cell_type": "markdown",
      "source": [
        "We know that an apple tree can grow from its seed, given the right conditions.  \n",
        "Let's create a *grow* Method."
      ],
      "metadata": {
        "id": "GPcw5a2B2YT1"
      }
    },
    {
      "cell_type": "code",
      "source": [
        "class Apple:\n",
        "    info = \"An apple is the round fruit of a tree of the rose family, which typically has thin red or green skin and crisp flesh.\"\n",
        "\n",
        "    def __init__(self, color, flavor):\n",
        "        self.color = color\n",
        "        self.flavor = flavor\n",
        "\n",
        "    def __str__(self):\n",
        "        return f\"This apple is {self.color} and its flavor is {self.flavor}.\"\n",
        "\n",
        "    def grow(self):\n",
        "        print(f\"Given the right conditions, an apple tree will grow from its seed.\")\n"
      ],
      "metadata": {
        "id": "L8loXDU123la"
      },
      "execution_count": null,
      "outputs": []
    },
    {
      "cell_type": "markdown",
      "source": [
        "Still pretty much the same code, but we've added the *grow* method.  \n",
        "Let's see what it can do."
      ],
      "metadata": {
        "id": "h4PnpIfX2qfV"
      }
    },
    {
      "cell_type": "code",
      "source": [
        "Jonagold = Apple(\"red\", \"sweet\")"
      ],
      "metadata": {
        "id": "Zd--DgdO3THt"
      },
      "execution_count": null,
      "outputs": []
    },
    {
      "cell_type": "code",
      "source": [
        "Jonagold.grow()"
      ],
      "metadata": {
        "id": "RwjshohK3I4u"
      },
      "execution_count": null,
      "outputs": []
    },
    {
      "cell_type": "markdown",
      "source": [
        "Hurray, we've just created a Method under the class Apple!"
      ],
      "metadata": {
        "id": "-6YO8sEV4_Kc"
      }
    },
    {
      "cell_type": "markdown",
      "source": [
        "#### Inheritance\n",
        "Now, we reach the last part of this lecture. We want to teach you a concept that is called **Inheritance**."
      ],
      "metadata": {
        "id": "7LG6kmXP7l6X"
      }
    },
    {
      "cell_type": "markdown",
      "source": [
        "We all know that apple is a type of fruit, so as banana.  \n",
        "We can create a Fruit class, and then create the Apple and Banana classes that **inherit** from the Fruit class.  \n",
        "Then whatever characteristics defined in the **parent** (Fruit) class will be passed down to the **child** (Apple, Banana) class."
      ],
      "metadata": {
        "id": "MlzJlL1z7JnJ"
      }
    },
    {
      "cell_type": "code",
      "source": [
        "class Fruit:\n",
        "    def __init__(self, color, flavor):\n",
        "        self.color = color\n",
        "        self.flavor = flavor\n",
        "\n",
        "    def __str__(self):\n",
        "        return f\"This fruit is {self.color} and its flavor is {self.flavor}.\"\n"
      ],
      "metadata": {
        "id": "x-fT-L5398G9"
      },
      "execution_count": null,
      "outputs": []
    },
    {
      "cell_type": "markdown",
      "source": [
        "Now let's create an Apple class that inherits from the Fruit class."
      ],
      "metadata": {
        "id": "twv7eAww-Kjs"
      }
    },
    {
      "cell_type": "code",
      "source": [
        "class Apple(Fruit):\n",
        "    pass"
      ],
      "metadata": {
        "id": "nF0X2gzC-Qe8"
      },
      "execution_count": null,
      "outputs": []
    },
    {
      "cell_type": "markdown",
      "source": [
        "Can you create one for the Banana?"
      ],
      "metadata": {
        "id": "fUUS0tos-Tcv"
      }
    },
    {
      "cell_type": "code",
      "source": [
        "class Banana\n"
      ],
      "metadata": {
        "id": "AQmzHe5P-ZtA"
      },
      "execution_count": null,
      "outputs": []
    },
    {
      "cell_type": "markdown",
      "source": [
        "We know that Granny Smith is a type of apple.  \n",
        "What's Granny Smith's color and how does it taste?"
      ],
      "metadata": {
        "id": "CI2iPAhL-1dl"
      }
    },
    {
      "cell_type": "code",
      "source": [
        "Granny_smith = Apple(\"green\", \"tart\")"
      ],
      "metadata": {
        "id": "-iV1sQRk_DOW"
      },
      "execution_count": null,
      "outputs": []
    },
    {
      "cell_type": "code",
      "source": [
        "print(Granny_smith)"
      ],
      "metadata": {
        "id": "xH2S9mln_VmO"
      },
      "execution_count": null,
      "outputs": []
    },
    {
      "cell_type": "markdown",
      "source": [
        "On the other hand, the **Cavendish banana** is **yellow** in color and **floral** in flavor. *How do we code it?*"
      ],
      "metadata": {
        "id": "NP0XkBYN_meZ"
      }
    },
    {
      "cell_type": "code",
      "source": [],
      "metadata": {
        "id": "nTIdzq0X_2Bi"
      },
      "execution_count": null,
      "outputs": []
    },
    {
      "cell_type": "code",
      "source": [
        "print(Cavendish)"
      ],
      "metadata": {
        "id": "6kOCOLMFAHYw"
      },
      "execution_count": null,
      "outputs": []
    },
    {
      "cell_type": "markdown",
      "source": [
        "Hurray! This ends what you need to learn about Python classes and methods."
      ],
      "metadata": {
        "id": "3Q0ShH1-ANbU"
      }
    }
  ]
}