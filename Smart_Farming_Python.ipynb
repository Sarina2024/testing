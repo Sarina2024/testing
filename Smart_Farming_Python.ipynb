{
  "nbformat": 4,
  "nbformat_minor": 0,
  "metadata": {
    "colab": {
      "provenance": [],
      "authorship_tag": "ABX9TyMwxxMkR7cPNAgNPqlq0CsP",
      "include_colab_link": true
    },
    "kernelspec": {
      "name": "python3",
      "display_name": "Python 3"
    },
    "language_info": {
      "name": "python"
    }
  },
  "cells": [
    {
      "cell_type": "markdown",
      "metadata": {
        "id": "view-in-github",
        "colab_type": "text"
      },
      "source": [
        "<a href=\"https://colab.research.google.com/github/Sarina2024/testing/blob/main/Smart_Farming_Python.ipynb\" target=\"_parent\"><img src=\"https://colab.research.google.com/assets/colab-badge.svg\" alt=\"Open In Colab\"/></a>"
      ]
    },
    {
      "cell_type": "markdown",
      "source": [
        "# **Smart Farming Sample Projects**"
      ],
      "metadata": {
        "id": "0xyCjJuFnR0b"
      }
    },
    {
      "cell_type": "markdown",
      "source": [
        "**Project 1: Soil Moisture Monitoring**\n",
        "\n",
        "To demonstrate the use of if, elif and else"
      ],
      "metadata": {
        "id": "jJ0YgzljoHog"
      }
    },
    {
      "cell_type": "code",
      "source": [
        "# Project 1: Soil Moisture Monitoring\n",
        "\n",
        "# Simulated soil moisture level (you can replace this with real sensor data in a real scenario)\n",
        "soil_moisture = 0.4  # Assume a value between 0 (dry) and 1 (moist)\n",
        "\n",
        "# Thresholds for soil moisture\n",
        "dry_threshold = 0.3\n",
        "moist_threshold = 0.7\n",
        "\n",
        "# Decision making based on soil moisture level\n",
        "if soil_moisture < dry_threshold:\n",
        "    print(\"Soil moisture is low. Starting irrigation system.\")\n",
        "elif soil_moisture > moist_threshold:\n",
        "    print(\"Soil moisture is high. Turning off irrigation system.\")\n",
        "else:\n",
        "    print(\"Soil moisture is optimal. No action needed.\")\n"
      ],
      "metadata": {
        "id": "Co24BUd8oINX"
      },
      "execution_count": null,
      "outputs": []
    },
    {
      "cell_type": "markdown",
      "source": [
        "**Project 2: Smart Farming Decision Maker Simulator**\n",
        "\n",
        "To demonstrate the use of random and if-else\n"
      ],
      "metadata": {
        "id": "ayJ-AObr97zj"
      }
    },
    {
      "cell_type": "code",
      "source": [
        "# Project 2: Smart Farming Decision Maker Simulator\n",
        "\n",
        "import random\n",
        "\n",
        "# Simulate environmental data\n",
        "temperature = random.uniform(15, 35)  # Simulate temperature between 15°C and 35°C\n",
        "soil_moisture = random.uniform(20, 80)  # Simulate soil moisture between 20% and 80%\n",
        "light_intensity = random.uniform(1000, 10000)  # Simulate light intensity between 1000 lux and 10000 lux\n",
        "humidity = random.uniform(30, 70)  # Simulate humidity between 30% and 70%\n",
        "\n",
        "# Decision making based on simulated data\n",
        "actions = []\n",
        "\n",
        "if temperature > 30:\n",
        "    actions.append(\"Temperature is high. Consider cooling the greenhouse.\")\n",
        "elif temperature < 20:\n",
        "    actions.append(\"Temperature is low. Consider warming the greenhouse.\")\n",
        "\n",
        "if soil_moisture < 30:\n",
        "    actions.append(\"Soil moisture is low. Starting irrigation system.\")\n",
        "\n",
        "if light_intensity < 5000:\n",
        "    actions.append(\"Light intensity is low. Adjust lighting systems.\")\n",
        "\n",
        "if humidity > 60:\n",
        "    actions.append(\"Humidity is high. Consider improving ventilation.\")\n",
        "elif humidity < 40:\n",
        "    actions.append(\"Humidity is low. Consider adjusting humidity control.\")\n",
        "\n",
        "if not actions:\n",
        "    actions.append(\"Environmental conditions are optimal. No action needed.\")\n",
        "\n",
        "# Output decisions\n",
        "print(\"=== Smart Farming Decision Maker Simulator ===\")\n",
        "for action in actions:\n",
        "    print(action)\n"
      ],
      "metadata": {
        "id": "q7X6iII_zTe9"
      },
      "execution_count": null,
      "outputs": []
    },
    {
      "cell_type": "markdown",
      "source": [
        "**Project 3: Smart Farming Plot Monitor**\n",
        "\n",
        "To demonstrate the use of FOR loop\n"
      ],
      "metadata": {
        "id": "G9HG4a0w-PWN"
      }
    },
    {
      "cell_type": "code",
      "source": [
        "# Project 3: Smart Farming Plot Monitor\n",
        "\n",
        "# Define soil moisture levels for multiple plots (5 plots in this example)\n",
        "soil_moisture_levels = [10, 40, 15, 50, 60]  # Predefined moisture levels in percentage for 5 plots\n",
        "\n",
        "# Decision making based on soil moisture levels\n",
        "actions = []\n",
        "\n",
        "for plot_index, moisture_level in enumerate(soil_moisture_levels):\n",
        "    plot_number = plot_index + 1\n",
        "\n",
        "    if moisture_level < 20:\n",
        "        actions.append(f\"Plot {plot_number}: Soil moisture is low. Starting irrigation system.\")\n",
        "    elif moisture_level > 50:\n",
        "        actions.append(f\"Plot {plot_number}: Soil moisture is high. Reducing irrigation.\")\n",
        "    else:\n",
        "        actions.append(f\"Plot {plot_number}: Soil moisture is optimal. No action needed.\")\n",
        "\n",
        "# Output decisions\n",
        "print(\"=== Smart Farming Plot Monitor ===\")\n",
        "for action in actions:\n",
        "    print(action)\n"
      ],
      "metadata": {
        "id": "cVQy9EiK12y9"
      },
      "execution_count": null,
      "outputs": []
    },
    {
      "cell_type": "markdown",
      "source": [
        "**Project 4: Soil Moisture Simulator**\n",
        "\n",
        "To demonstrate the use of WHILE loop"
      ],
      "metadata": {
        "id": "xNf5sHZ6A08r"
      }
    },
    {
      "cell_type": "code",
      "source": [
        "# Project 4: Soil Moisture Simulator\n",
        "\n",
        "# Simulate soil moisture monitoring with a sensor node using while loop\n",
        "current_moisture = 20  # Initial moisture level (%)\n",
        "max_moisture = 80  # Maximum acceptable moisture level (%)\n",
        "\n",
        "\n",
        "while current_moisture <= max_moisture:\n",
        "    # Decision making based on current moisture level\n",
        "    if current_moisture < 30:\n",
        "        print(f\"Soil moisture level is {current_moisture}%. Starting irrigation system.\")\n",
        "    elif current_moisture > 70:\n",
        "        print(f\"Soil moisture level is {current_moisture}%. Reducing irrigation.\")\n",
        "    else:\n",
        "        print(f\"Soil moisture level is {current_moisture}%. Moisture level is optimal. No action needed.\")\n",
        "\n",
        "    # Simulate gradual increase in moisture level (for demonstration)\n",
        "    current_moisture += 5\n",
        "\n",
        "# End of monitoring loop\n",
        "print(\"Monitoring stopped. Soil moisture level exceeded maximum acceptable value.\")\n"
      ],
      "metadata": {
        "id": "6pJWDM2Y4KMH"
      },
      "execution_count": null,
      "outputs": []
    }
  ]
}